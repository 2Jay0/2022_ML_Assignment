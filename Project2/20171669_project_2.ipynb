{
 "cells": [
  {
   "cell_type": "markdown",
   "id": "a7fa48e9",
   "metadata": {},
   "source": [
    "# 기초머신러닝 Project2_KNN"
   ]
  },
  {
   "cell_type": "markdown",
   "id": "cbb0bc7d",
   "metadata": {},
   "source": [
    "아래 이름, 학번을 작성하세요."
   ]
  },
  {
   "cell_type": "code",
   "execution_count": 29,
   "id": "831f2fb8",
   "metadata": {},
   "outputs": [],
   "source": [
    "project2_student_id = '20171669'\n",
    "project2_student_name = '이재영'"
   ]
  },
  {
   "cell_type": "markdown",
   "id": "c9b967f8",
   "metadata": {},
   "source": [
    "#  \n",
    "#  "
   ]
  },
  {
   "cell_type": "markdown",
   "id": "96168af3",
   "metadata": {},
   "source": [
    "# Project2\n",
    "### -\t주어진 1NN 코드를 바탕으로 KNNClassifier가 되도록 KNNClassifier() 클래스를 작성 (OneNeighborClassifier()의 closest 함수를 수정하는 것을 포함한 여러 가지 방법 사용 가능)\n",
    "### -\t동일한 학습/테스트 데이터에 대하여 1NN, 3NN, 5NN, 7NN의 성능을 출력"
   ]
  },
  {
   "cell_type": "markdown",
   "id": "32400185",
   "metadata": {},
   "source": [
    "### Example) 1NN "
   ]
  },
  {
   "cell_type": "code",
   "execution_count": 30,
   "id": "283582aa",
   "metadata": {},
   "outputs": [],
   "source": [
    "from sklearn import datasets\n",
    "iris = datasets.load_iris()"
   ]
  },
  {
   "cell_type": "code",
   "execution_count": 31,
   "id": "c43a4e02",
   "metadata": {},
   "outputs": [],
   "source": [
    "X = iris.data\n",
    "# Iris.data contains the features or independent variables.\n",
    "y = iris.target\n",
    "# Iris.target contains the labels or the dependent variables."
   ]
  },
  {
   "cell_type": "code",
   "execution_count": 32,
   "id": "4e2c69bf",
   "metadata": {},
   "outputs": [],
   "source": [
    "from sklearn.model_selection import train_test_split"
   ]
  },
  {
   "cell_type": "code",
   "execution_count": 33,
   "id": "f958284c",
   "metadata": {},
   "outputs": [],
   "source": [
    "X_train, X_test, y_train, y_test = train_test_split(X, y, test_size = 0.50)"
   ]
  },
  {
   "cell_type": "code",
   "execution_count": 34,
   "id": "c424b467",
   "metadata": {},
   "outputs": [],
   "source": [
    "from scipy.spatial import distance  # Built in function called distance.\n",
    "\n",
    "                                    #Defining the n dimensional distance as euc.\n",
    "def euc(a,b):                       # Lists of numeric features. \n",
    "    return distance.euclidean(a,b)  # Measure and return the distance between 2 points \n",
    "                                    # i.e. the training point and a test point."
   ]
  },
  {
   "cell_type": "code",
   "execution_count": 35,
   "id": "5a68e3b5",
   "metadata": {},
   "outputs": [],
   "source": [
    "class OneNeighborClassifier():                # This 'class' has 2 Methods : Fit and Predict\n",
    "    \n",
    "    #Each step is followed by a comment which explains how the classifier is working \n",
    "    \n",
    "    def fit(self, X_train, y_train):          # Takes features and labels as input\n",
    "        self.X_train = X_train                # Storing the X_train in self.X_train\n",
    "        self.y_train = y_train                # Storing the y_train in self.y_train\n",
    "                                              # This is like the ML classifier will memorize the values \n",
    "        \n",
    "    def predict (self, X_test):               # Receives features from the testing data and returns predictions\n",
    "        predictions = []                      # List of predictions, since X_test is a 2D array or a list of lists.\n",
    "        for row in X_test:                    # Each row contains the features for one testing example\n",
    "            label = self.closest(row)         # We are calling the function that we are creating in the next block\n",
    "                                              # to find the closest training point from the test point\n",
    "            predictions.append(label)         # Add the labels to the predictions list to fill it.\n",
    "        return predictions                    # Return predictions as the output\n",
    "    \n",
    "    def closest(self, row):                   # Create the function closest such that -->\n",
    "        best_dist = euc(row, self.X_train[0]) # Measure the shortest distance a test point and the first train point\n",
    "        best_index = 0                        # Keep track of the index of the train point that is closest\n",
    "        for i in range (1, len(self.X_train)):# Iterate over the different training points\n",
    "            dist = euc(row, self.X_train[i])\n",
    "            if dist < best_dist:              # The moment we find a closer one, we update our variables.\n",
    "                best_dist = dist              # If dist is shorter than best_dist, then its the new best_dist\n",
    "                best_index = i                # Using the index of best_dist to return label of the closest training pt.\n",
    "        return self.y_train[best_index]       # Return that label"
   ]
  },
  {
   "cell_type": "code",
   "execution_count": 36,
   "id": "3a043a25",
   "metadata": {},
   "outputs": [],
   "source": [
    "my_classifier = OneNeighborClassifier()\n",
    "my_classifier.fit(X_train, y_train)"
   ]
  },
  {
   "cell_type": "code",
   "execution_count": 37,
   "id": "67ed41cd",
   "metadata": {},
   "outputs": [],
   "source": [
    "pred = my_classifier.predict(X_test)"
   ]
  },
  {
   "cell_type": "code",
   "execution_count": 38,
   "id": "b67088e8",
   "metadata": {},
   "outputs": [
    {
     "name": "stdout",
     "output_type": "stream",
     "text": [
      "Accuracy : 98.667%\n"
     ]
    }
   ],
   "source": [
    "from sklearn.metrics import accuracy_score\n",
    "#print ('Accuracy of the classifier is', accuracy_score(y_test, pred)*100, '3.2%')\n",
    "acc = accuracy_score(y_test, pred)*100\n",
    "print (f'Accuracy : {acc:.3f}%')"
   ]
  },
  {
   "cell_type": "markdown",
   "id": "b8a21aac",
   "metadata": {},
   "source": [
    "#  \n",
    "#  "
   ]
  },
  {
   "cell_type": "markdown",
   "id": "88bcc6e0",
   "metadata": {},
   "source": [
    "## Practice1"
   ]
  },
  {
   "cell_type": "markdown",
   "id": "78642658",
   "metadata": {},
   "source": [
    "필요에 따라, 작성한 KNNClassifier 클래스에 맞추어 성능 확인을 위한 3개의 셀 수정 가능"
   ]
  },
  {
   "cell_type": "code",
   "execution_count": 39,
   "id": "e7569e5c",
   "metadata": {},
   "outputs": [],
   "source": [
    "class KNNClassifier():  \n",
    "    def __init__(self, num_k):\n",
    "        self.num_k = num_k\n",
    "        \n",
    "    def fit(self, X_train, y_train):          # Takes features and labels as input\n",
    "        self.X_train = X_train                # Storing the X_train in self.X_train\n",
    "        self.y_train = y_train                # Storing the y_train in self.y_train\n",
    "                                              # This is like the ML classifier will memorize the values \n",
    "        \n",
    "    def predict (self, X_test):               # Receives features from the testing data and returns predictions\n",
    "        predictions = []                      # List of predictions, since X_test is a 2D array or a list of lists.\n",
    "        for row in X_test:                    # Each row contains the features for one testing example\n",
    "            label = self.closest(row)         # We are calling the function that we are creating in the next block\n",
    "                                              # to find the closest training point from the test point\n",
    "            predictions.append(label)         # Add the labels to the predictions list to fill it.\n",
    "        return predictions                    # Return predictions as the output\n",
    "\n",
    "\n",
    "    def closest(self, row):\n",
    "        dist_index = []\n",
    "        \n",
    "        for i in range (0, len(self.X_train)):\n",
    "            dist_index.append((euc(row, self.X_train[i]),i))\n",
    "            \n",
    "        dist_index.sort(key=lambda x: x[0])\n",
    "        \n",
    "        label_check = []\n",
    "        for j in range(0,self.num_k):\n",
    "            label = self.y_train[dist_index[j][1]]\n",
    "            label_check.append(label)\n",
    "\n",
    "        idx = []\n",
    "        for k in range(0,self.num_k):\n",
    "            idx.append((label_check[k],label_check.count(label_check[k])))\n",
    "        idx.sort(key=lambda x: x[1], reverse = True)\n",
    "\n",
    "        return idx[0][0]"
   ]
  },
  {
   "cell_type": "code",
   "execution_count": 40,
   "id": "efa3d3b8",
   "metadata": {},
   "outputs": [],
   "source": [
    "knn_classifier1 = KNNClassifier(1)\n",
    "knn_classifier1.fit(X_train, y_train)"
   ]
  },
  {
   "cell_type": "code",
   "execution_count": 41,
   "id": "629f9ab5",
   "metadata": {},
   "outputs": [],
   "source": [
    "knn_pred1 = knn_classifier1.predict(X_test)"
   ]
  },
  {
   "cell_type": "code",
   "execution_count": 42,
   "id": "87845b0d",
   "metadata": {},
   "outputs": [
    {
     "name": "stdout",
     "output_type": "stream",
     "text": [
      "Accuracy : 98.667%\n"
     ]
    }
   ],
   "source": [
    "knn_acc1 = accuracy_score(y_test, knn_pred1)*100\n",
    "print (f'Accuracy : {knn_acc1:.3f}%')"
   ]
  },
  {
   "cell_type": "markdown",
   "id": "3154cec7",
   "metadata": {},
   "source": [
    "##    "
   ]
  },
  {
   "cell_type": "code",
   "execution_count": 43,
   "id": "e9c3aadb",
   "metadata": {},
   "outputs": [],
   "source": [
    "knn_classifier3 = KNNClassifier(3)\n",
    "knn_classifier3.fit(X_train, y_train)"
   ]
  },
  {
   "cell_type": "code",
   "execution_count": 44,
   "id": "b406fa5e",
   "metadata": {},
   "outputs": [],
   "source": [
    "knn_pred3 = knn_classifier3.predict(X_test)"
   ]
  },
  {
   "cell_type": "code",
   "execution_count": 45,
   "id": "12b09794",
   "metadata": {},
   "outputs": [
    {
     "name": "stdout",
     "output_type": "stream",
     "text": [
      "Accuracy : 97.333%\n"
     ]
    }
   ],
   "source": [
    "knn_acc3 = accuracy_score(y_test, knn_pred3)*100\n",
    "print (f'Accuracy : {knn_acc3:.3f}%')"
   ]
  },
  {
   "cell_type": "markdown",
   "id": "f3ea223b",
   "metadata": {},
   "source": [
    "##  "
   ]
  },
  {
   "cell_type": "code",
   "execution_count": 46,
   "id": "44ca48ce",
   "metadata": {},
   "outputs": [],
   "source": [
    "knn_classifier5 = KNNClassifier(5)\n",
    "knn_classifier5.fit(X_train, y_train)"
   ]
  },
  {
   "cell_type": "code",
   "execution_count": 47,
   "id": "ec6d8696",
   "metadata": {},
   "outputs": [],
   "source": [
    "knn_pred5 = knn_classifier5.predict(X_test)"
   ]
  },
  {
   "cell_type": "code",
   "execution_count": 48,
   "id": "c5350f92",
   "metadata": {},
   "outputs": [
    {
     "name": "stdout",
     "output_type": "stream",
     "text": [
      "Accuracy : 97.333%\n"
     ]
    }
   ],
   "source": [
    "knn_acc5 = accuracy_score(y_test, knn_pred5)*100\n",
    "print (f'Accuracy : {knn_acc5:.3f}%')"
   ]
  },
  {
   "cell_type": "markdown",
   "id": "3fd02496",
   "metadata": {},
   "source": [
    "##  "
   ]
  },
  {
   "cell_type": "code",
   "execution_count": 49,
   "id": "e3460569",
   "metadata": {},
   "outputs": [],
   "source": [
    "knn_classifier7 = KNNClassifier(7)\n",
    "knn_classifier7.fit(X_train, y_train)"
   ]
  },
  {
   "cell_type": "code",
   "execution_count": 50,
   "id": "7a9a0bfd",
   "metadata": {},
   "outputs": [],
   "source": [
    "knn_pred7 = knn_classifier7.predict(X_test)"
   ]
  },
  {
   "cell_type": "code",
   "execution_count": 51,
   "id": "af0cc3f7",
   "metadata": {},
   "outputs": [
    {
     "name": "stdout",
     "output_type": "stream",
     "text": [
      "Accuracy : 97.333%\n"
     ]
    }
   ],
   "source": [
    "knn_acc7 = accuracy_score(y_test, knn_pred7)*100\n",
    "print (f'Accuracy : {knn_acc7:.3f}%')"
   ]
  },
  {
   "cell_type": "markdown",
   "id": "3bf1fd49",
   "metadata": {},
   "source": [
    "#   \n",
    "#  "
   ]
  },
  {
   "cell_type": "markdown",
   "id": "4c006323",
   "metadata": {},
   "source": [
    "# 결과 확인용\n",
    "수정금지 - 조교"
   ]
  },
  {
   "cell_type": "code",
   "execution_count": 52,
   "id": "49495793",
   "metadata": {},
   "outputs": [
    {
     "name": "stdout",
     "output_type": "stream",
     "text": [
      "학번: 20171669\n",
      "이름: 이재영\n"
     ]
    }
   ],
   "source": [
    "print(f'학번: {project2_student_id}')\n",
    "print(f'이름: {project2_student_name}')"
   ]
  },
  {
   "cell_type": "code",
   "execution_count": 53,
   "id": "c1cc3db0",
   "metadata": {},
   "outputs": [
    {
     "name": "stdout",
     "output_type": "stream",
     "text": [
      "Accuracy : 98.667%\n"
     ]
    }
   ],
   "source": [
    "knn_acc1 = accuracy_score(y_test, knn_pred1)*100\n",
    "print (f'Accuracy : {knn_acc1:.3f}%')"
   ]
  },
  {
   "cell_type": "code",
   "execution_count": 54,
   "id": "378fc19c",
   "metadata": {},
   "outputs": [
    {
     "name": "stdout",
     "output_type": "stream",
     "text": [
      "Accuracy : 97.333%\n"
     ]
    }
   ],
   "source": [
    "knn_acc3 = accuracy_score(y_test, knn_pred3)*100\n",
    "print (f'Accuracy : {knn_acc3:.3f}%')"
   ]
  },
  {
   "cell_type": "code",
   "execution_count": 55,
   "id": "609e87db",
   "metadata": {},
   "outputs": [
    {
     "name": "stdout",
     "output_type": "stream",
     "text": [
      "Accuracy : 97.333%\n"
     ]
    }
   ],
   "source": [
    "knn_acc5 = accuracy_score(y_test, knn_pred5)*100\n",
    "print (f'Accuracy : {knn_acc5:.3f}%')"
   ]
  },
  {
   "cell_type": "code",
   "execution_count": 56,
   "id": "8c56c887",
   "metadata": {},
   "outputs": [
    {
     "name": "stdout",
     "output_type": "stream",
     "text": [
      "Accuracy : 97.333%\n"
     ]
    }
   ],
   "source": [
    "knn_acc7 = accuracy_score(y_test, knn_pred7)*100\n",
    "print (f'Accuracy : {knn_acc7:.3f}%')"
   ]
  },
  {
   "cell_type": "code",
   "execution_count": null,
   "id": "e1387a14",
   "metadata": {},
   "outputs": [],
   "source": []
  }
 ],
 "metadata": {
  "kernelspec": {
   "display_name": "Python 3",
   "language": "python",
   "name": "python3"
  },
  "language_info": {
   "codemirror_mode": {
    "name": "ipython",
    "version": 3
   },
   "file_extension": ".py",
   "mimetype": "text/x-python",
   "name": "python",
   "nbconvert_exporter": "python",
   "pygments_lexer": "ipython3",
   "version": "3.8.8"
  }
 },
 "nbformat": 4,
 "nbformat_minor": 5
}
